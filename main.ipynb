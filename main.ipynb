{
 "cells": [
  {
   "cell_type": "markdown",
   "id": "07eda9b0",
   "metadata": {},
   "source": [
    "# **Image Filtering in Spatial and Frequency Domains (Part I)**\n",
    "    \n",
    "This lab introduces you to image filtering techniques, starting from basic convolution operations \n",
    "and progressing through spatial and frequency domain filtering. \n",
    "\n",
    "By the end of this lab, students will be able to:\n",
    "- Implement and understand 2D convolution.\n",
    "- Apply and analyze different types of noise.\n",
    "- Perform spatial domain filtering (linear and nonlinear).\n",
    "- Validate results using OpenCV functions and compute quantitative metrics.\n",
    "- Perform frequency domain filtering using the Fourier Transform.\n",
    "- Compare spatial and frequency domain filtering in terms of results and efficiency.\n",
    "\n",
    "\n",
    "## **Lab Structure**\n",
    "This lab is divided into two main parts:\n",
    "\n",
    "- **Part I: Spatial Filtering** → You will explore **spatial domain techniques**, focusing on convolution-based filtering, noise reduction, and edge detection.\n",
    "- **Part II: Frequency Filtering** → You will study **Fourier-based filtering**, transforming images into the frequency domain to apply the same filtering operations performed in the spatial domain.\n",
    "\n",
    "Each section will include both **theoretical explanations** and **hands-on implementation tasks** to help you understand the concepts in depth.\n",
    "\n",
    "\n",
    "---\n"
   ]
  },
  {
   "cell_type": "markdown",
   "id": "d9b0d07e",
   "metadata": {},
   "source": [
    "### Understanding the libraries used\n",
    "Before starting the lab, provide a brief definition of the following libraries and their role in image processing:\n",
    "\n",
    "- **OpenCV**: Open Source Computer Vision Library, primarily used for image and video processing tasks such as geometric transformations, filtering, and morphological operations.\n",
    "  \n",
    "- **NumPy**: A fundamental package for numerical computing in Python, providing support for arrays, matrices, and mathematical functions used in image processing.\n",
    "  \n",
    "- **Matplotlib**: A plotting library for Python that enables visualization of images, histograms, and transformations applied to images.\n",
    "\n",
    "If not installed, you can install them using:\n",
    "\n",
    "`pip install opencv-python numpy matplotlib`"
   ]
  },
  {
   "cell_type": "code",
   "execution_count": null,
   "id": "d90181c1",
   "metadata": {},
   "outputs": [],
   "source": [
    "import numpy as np\n",
    "import cv2\n",
    "import matplotlib.pyplot as plt"
   ]
  },
  {
   "cell_type": "markdown",
   "id": "dcf59d63",
   "metadata": {},
   "source": [
    "# Manipulation 1: Spatial domain image filtering\n",
    "\n",
    "### 1. Introduction\n",
    "\n",
    "Image filtering is a crucial operation in image processing that modifies pixel values to enhance image quality or extract features. It is widely used for:\n",
    "\n",
    "- **Noise reduction** (e.g., denoising sensor noise)\n",
    "- **Edge detection** (e.g., detecting object boundaries)\n",
    "- **Feature enhancement** (e.g., sharpening or blurring)\n",
    "\n",
    "This section explores **spatial filtering**, a technique that enhances or modifies an image by applying a convolution operation.\n",
    "\n",
    "\n",
    "### 2. What is filtering?\n",
    "\n",
    "Filtering consists of modifying an image by replacing each pixel value with a function of its **neighboring pixels**. This operation helps in reducing noise, detecting edges, or enhancing image details.\n",
    "\n",
    "There are two main categories of filters:\n",
    "\n",
    "- **Linear Filters** → Weighted sum of neighboring pixels (e.g., mean, Gaussian filters).\n",
    "- **Non-Linear Filters** → Pixel values depend on statistical properties (e.g., median, bilateral filters).\n",
    "\n",
    "\n",
    "### 3. Convolution operation\n",
    "\n",
    "#### **Discrete 2D convolution formula**  \n",
    "Given an image $ I(x,y) $ and a kernel $ K(m,n) $, the convolution is defined as:\n",
    "\n",
    "\n",
    "$ I'(x,y) = \\sum_{m=-k}^{k} \\sum_{n=-k}^{k} K(m,n) \\cdot I(x-m, y-n) $\n",
    "\n",
    "\n",
    "where:\n",
    "- $ I(x,y) $ is the input image.\n",
    "- $ K(m,n) $ is the **filter kernel** of size $ (2k+1) \\times (2k+1) $.\n",
    "- $ I'(x,y) $ is the **filtered output image**.\n",
    "\n",
    "**Key Observations:**\n",
    "- The kernel moves over the image and replaces each pixel with a weighted sum of its neighbors.\n",
    "- The larger the kernel, the more smoothing or blurring is applied.\n",
    "- Edge handling is necessary (padding or cropping).\n",
    "\n",
    "\n",
    "### 4. Smoothing, noise reduction, and edge detection\n",
    "\n",
    "Noise can distort image details, making it essential to apply filters for restoration. There are two main types:\n",
    "\n",
    "- **Linear Filters**:\n",
    "  - `Mean filter`: Averages pixel values within a neighborhood.\n",
    "  - `Gaussian filter`: Applies a weighted average, giving more importance to central pixels.\n",
    "\n",
    "- **Non-Linear Filters**:\n",
    "  - `Median filter`: Replaces each pixel with the median of its neighbors.\n",
    "  - `Bilateral filter`: Smooths noise while preserving edges by considering both spatial and intensity differences.\n",
    "\n",
    "**Key Question:** How do these filters balance noise reduction and detail preservation?\n",
    "\n",
    "![Noise Reduction](illustrations/linear_nonlinear.jpg)\n",
    "\n",
    "Edge detection is used to highlight structural changes in an image. Common filters include:\n",
    "\n",
    "- **Sobel filter**: Computes the gradient in x and y directions to detect edges.\n",
    "- **Prewitt filter**: Similar to Sobel but with different coefficients.\n",
    "- **Laplacian filter**: Uses second-order derivatives to detect edges.\n",
    "- **Canny filter**: A multi-step approach to detect and refine edges.\n",
    "\n",
    "![Edge Detection](illustrations/edges.jpg)\n",
    "\n",
    "\n",
    "**Key Question:** How do different filters emphasize various edge structures?\n",
    "\n",
    "\n",
    "\n",
    "### 5. What will you learn?\n",
    "- How linear and non-linear filters affect noise reduction and edge preservation.\n",
    "- The role of edge detection filters in highlighting structural details.\n",
    "\n",
    "### 6. What to analyze?\n",
    "- Which filters are most effective for specific types of noise?\n",
    "- The balance between noise removal and edge preservation.\n",
    "\n",
    "\n",
    "\n",
    "> # **Note:** For all filtering operations in this section, a **3×3 kernel size** will be used.\n",
    "\n",
    "---\n"
   ]
  },
  {
   "cell_type": "markdown",
   "id": "dcb31ab1",
   "metadata": {},
   "source": [
    "## Task 1: Implement and validate 2D convolution"
   ]
  },
  {
   "cell_type": "markdown",
   "id": "57823a9e",
   "metadata": {},
   "source": [
    "#### **T1.1: Implement 2D Convolution Manually**\n",
    "\n",
    "In this task, you will implement 2D convolution manually without relying on OpenCV or built-in convolution functions.\n",
    "\n",
    "\n",
    "- Use the provided `circle.jpg` image as the input image.\n",
    "- Apply the given **3×3 kernel** for the filtering operations.\n",
    "- Implement the **convolution** process manually.\n",
    "- Verify that your computed output matches the expected output matrix.\n",
    "\n",
    "\n",
    "![Sample Image](illustrations/output_filtered_circle.jpg)\n",
    "\n",
    "\n",
    "### What to check?\n",
    "- Verify that the **output size** is smaller than the input when no padding is applied.\n",
    "\n",
    "\n",
    "\n",
    "```python\n",
    "# Kernel of 3x3\n",
    "kernel = np.array([\n",
    "    [-1, -1, -1],\n",
    "    [-1,  8, -1],\n",
    "    [-1, -1, -1]\n",
    "])\n",
    "```\n",
    "\n",
    "\n",
    "\n"
   ]
  },
  {
   "cell_type": "code",
   "execution_count": null,
   "id": "e47e75af",
   "metadata": {},
   "outputs": [],
   "source": [
    "# Your code here.\n",
    "...\n"
   ]
  },
  {
   "cell_type": "markdown",
   "id": "4fba84d2",
   "metadata": {},
   "source": [
    "#### **T1.2: Validate the Convolution Using OpenCV**\n",
    "\n",
    "- Use `cv2.filter2D()` to apply the same kernel.\n",
    "- Ensure your **manual implementation** produces similar results.\n",
    "\n",
    "\n",
    "### Important Considerations:\n",
    "\n",
    "1. **Avoid padding first**  \n",
    "   - Work only on the **valid region** of the image.  \n",
    "   - Set the correct argument in `cv2.filter2D()` to match your previous function’s in term of output results and size.  \n",
    "\n",
    "2. **Test with different padding techniques**  \n",
    "   - Try **zero-padding** (adding a border of zeros around the image).  \n",
    "   - Try **replication-padding** (extending the edge pixels).  \n",
    "   - Compare how these affect the convolution results in both your function and OpenCV.  \n",
    "\n",
    "### Key Observations:\n",
    "- How does padding influence the final output?\n",
    "- Does your manual function match OpenCV’s results across different padding strategies?\n"
   ]
  },
  {
   "cell_type": "code",
   "execution_count": null,
   "id": "f903425a",
   "metadata": {},
   "outputs": [],
   "source": [
    "# Your code here.\n",
    "...\n"
   ]
  },
  {
   "cell_type": "markdown",
   "id": "c2c8f771",
   "metadata": {},
   "source": [
    "**Add your analysis and comments here**\n",
    "\n",
    "..."
   ]
  },
  {
   "cell_type": "markdown",
   "id": "b3e11f6e",
   "metadata": {},
   "source": [
    "## Task 2: Generate and analyze noise"
   ]
  },
  {
   "cell_type": "markdown",
   "id": "3ea1f9e7",
   "metadata": {},
   "source": [
    "#### **T2.1: Add Noise to an Image**\n",
    "\n",
    "**Note:** Ensure that you are using a **grayscale image** for this task.\n",
    "\n",
    "- Apply **Gaussian noise** (simulating sensor noise) on the `house` image.\n",
    "- Apply **Salt & Pepper noise** (simulating impulse noise) on the `pepper` image.\n",
    "\n",
    "\n",
    "#### Noise Parameters:\n",
    "- **Gaussian noise**: Uses `np.random.normal` with:\n",
    "  - Mean (μ) = 0\n",
    "  - Standard deviation (σ) = 0.1\n",
    "\n",
    "- **Salt & Pepper noise**: Uses the following function:\n",
    "\n",
    "```python\n",
    "def impulse(img, amount): \n",
    "    row, col = img.shape \n",
    "    s_vs_p = 0.5  # Ratio of salt vs. pepper noise\n",
    "    out = np.copy(img)\n",
    "    \n",
    "    # Salt noise (white pixels)\n",
    "    num_salt = np.ceil(amount * img.size * s_vs_p)\n",
    "    coords = [np.random.randint(0, i - 1, int(num_salt)) for i in img.shape]\n",
    "    out[coords] = 255  \n",
    "\n",
    "    # Pepper noise (black pixels)\n",
    "    num_pepper = np.ceil(amount * img.size * (1. - s_vs_p))\n",
    "    coords = [np.random.randint(0, i - 1, int(num_pepper)) for i in img.shape]\n",
    "    out[coords] = 0  \n",
    "    \n",
    "    return out\n"
   ]
  },
  {
   "cell_type": "code",
   "execution_count": null,
   "id": "25d8b94b",
   "metadata": {},
   "outputs": [],
   "source": [
    "# Your code here.\n",
    "...\n"
   ]
  },
  {
   "cell_type": "markdown",
   "id": "592c8f5d",
   "metadata": {},
   "source": [
    "### **T2.2: Visualize and analyze the effect of noise**\n",
    "\n",
    "- Display the original and noisy images\n",
    "- Analyze how each type of noise affects image quality"
   ]
  },
  {
   "cell_type": "code",
   "execution_count": null,
   "id": "3b608607",
   "metadata": {},
   "outputs": [],
   "source": [
    "# Your analysis here.\n",
    "...\n"
   ]
  },
  {
   "cell_type": "markdown",
   "id": "28baa66a",
   "metadata": {},
   "source": [
    "**Add your analysis and comments here**\n",
    "\n",
    "..."
   ]
  },
  {
   "cell_type": "markdown",
   "id": "a6f1a5d9",
   "metadata": {},
   "source": [
    "## Task 3: Apply and evaluate spatial domain filtering for image denoising"
   ]
  },
  {
   "cell_type": "markdown",
   "id": "6066b10d",
   "metadata": {},
   "source": [
    "#### **T3.1: Implement and compare filtering methods**\n",
    "\n",
    "\n",
    "\n",
    "In this task, you will apply **linear and non-linear filters** to an image using your **manually implemented 2D convolution function** and analyze their effectiveness for noise reduction.\n",
    "\n",
    "- Linear Filters (Convolution-Based)\n",
    "  - `Mean filter`\n",
    "  - `Gaussian filter`\n",
    "\n",
    "- Non-Linear Filters (Statistical-Based, Not Using Convolution)\n",
    "  - `Median filter`\n",
    "  - `Bilateral filter`\n",
    "\n",
    "### Questions :\n",
    "- How do these filters affect image sharpness and noise reduction?\n",
    "- Which filter is most effective for removing **Gaussian noise** vs. `Salt & Pepper` noise?\n"
   ]
  },
  {
   "cell_type": "code",
   "execution_count": null,
   "id": "5ed2bdf1",
   "metadata": {},
   "outputs": [],
   "source": [
    "# Your code here.\n",
    "...\n"
   ]
  },
  {
   "cell_type": "markdown",
   "id": "be176a8b",
   "metadata": {},
   "source": [
    "**Add your analysis and comments here**\n",
    "\n",
    "..."
   ]
  },
  {
   "cell_type": "markdown",
   "id": "615bae99",
   "metadata": {},
   "source": [
    "#### **T3.2: Validate filtering with OpenCV**\n",
    "\n",
    "\n",
    "To ensure the correctness of your manual implementation, apply the same filters using **OpenCV's built-in functions**:\n",
    "\n",
    "- Linear Filters:\n",
    "    - `cv2.blur()` → Mean filter\n",
    "    - `cv2.GaussianBlur()` → Gaussian filter\n",
    "\n",
    "- Non-Linear Filters:\n",
    "    - `cv2.medianBlur()` → Median filter\n",
    "    - `cv2.bilateralFilter()` → Bilateral filter\n",
    "\n",
    "### Comparison Criteria:\n",
    "- Verify that your manual convolution-based implementation produces results similar to OpenCV.\n",
    "- Observe any differences in image quality (e.g., blurring, edge preservation).\n"
   ]
  },
  {
   "cell_type": "code",
   "execution_count": null,
   "id": "139cdbf6",
   "metadata": {},
   "outputs": [],
   "source": [
    "# Your code here.\n",
    "...\n"
   ]
  },
  {
   "cell_type": "markdown",
   "id": "3b5fb1ec",
   "metadata": {},
   "source": [
    "**Add your analysis and comments here**\n",
    "\n",
    "..."
   ]
  },
  {
   "cell_type": "markdown",
   "id": "8cb2248d",
   "metadata": {},
   "source": [
    "#### **T3.3: Perform qualitative evaluation for image denoising**\n",
    "\n",
    "In this task, you will assess the effectiveness of different filtering techniques in removing noise from images through visual inspection. \n",
    "\n",
    "**Use all the given images for this evaluation to ensure a comprehensive analysis across different image types.**\n",
    "\n",
    "\n",
    "Steps to follow: \n",
    "\n",
    "(Steps 1, 2, and 3 have already been completed in previous tasks.)\n",
    "\n",
    "1. Start with a clean image (ground truth).\n",
    "2. Add artificial noise to the image to simulate real-world noise conditions.\n",
    "3. Apply each filtering method one by one to reduce or remove the noise.\n",
    "4. Display the images in the following order : Original image --> Noisy image --> Filtered image.\n",
    "5. Visually inspect the filtered images and compare them to the original (ground truth).\n",
    "6. Observe how well each filter removes noise while preserving image quality, including details, textures, and sharpness.\n",
    "7. For each type of noise, identify the filter that gives the best visual result, balancing noise removal and image clarity."
   ]
  },
  {
   "cell_type": "code",
   "execution_count": null,
   "id": "770c7d6b",
   "metadata": {},
   "outputs": [],
   "source": [
    "# Your code here.\n",
    "...\n"
   ]
  },
  {
   "cell_type": "markdown",
   "id": "85afc705",
   "metadata": {},
   "source": [
    "**Add your analysis and comments here**\n",
    "\n",
    "..."
   ]
  },
  {
   "cell_type": "markdown",
   "id": "6cf5e8ee",
   "metadata": {},
   "source": [
    "#### **T3.4: Perform quantitative evaluation for image denoising**\n",
    "\n",
    "\n",
    "![Sample Image](illustrations/evaluation.jpg)\n",
    "\n",
    "\n",
    "In the previous task, you performed a qualitative (subjective) evaluation of the denoising results. Now, you will confirm and quantify our observations using objective evaluation metrics.\n",
    "\n",
    "### Why Use Evaluation Metrics?\n",
    "\n",
    "Visual inspection is subjective, it depends on human perception, and different observers might interpret results differently. To make a more reliable assessment, you will use two different quantitative metrics that provide numerical values to measure how close the denoised image is to the original (ground truth).\n",
    "\n",
    "1. Peak Signal-to-Noise Ratio (PSNR):\n",
    "\n",
    "    - Measures the difference between the ground truth image and the denoised image.\n",
    "    - A higher PSNR value indicates better denoising performance, meaning less distortion and noise remaining.\n",
    "    - It is expressed in decibels (dB), with typical values ranging between 20-50 dB, depending on image quality.\n",
    "\n",
    "\n",
    "2. Structural Similarity Index (SSIM):\n",
    "\n",
    "    - Unlike PSNR, which only considers pixel-wise differences, SSIM evaluates the structural similarity between two images.\n",
    "    - It measures how well the contrast, luminance, and texture are preserved in the denoised image.\n",
    "    - SSIM values range from 0 to 1, where 1 indicates a perfect match to the original image.\n",
    "\n",
    "\n",
    "### What you need to do:\n",
    "\n",
    "- Use prebuilt functions for PSNR and SSIM from `OpenCV`, `sklearn`, or any other relevant library. \n",
    "- Compute PSNR and SSIM for each denoised image \n",
    "- During the evaluation process, use these metrics carefully, especially when the original and filtered images do not have the same size.\n",
    "- Compare the values across different filters and noise types.\n",
    "- Identify the filter that provides the highest PSNR and SSIM, confirming the most effective denoising method."
   ]
  },
  {
   "cell_type": "code",
   "execution_count": null,
   "id": "b4f69195",
   "metadata": {},
   "outputs": [],
   "source": [
    "# Your code here.\n",
    "...\n"
   ]
  },
  {
   "cell_type": "markdown",
   "id": "1ad20f3e",
   "metadata": {},
   "source": [
    "**Add your analysis and comments here**\n",
    "\n",
    "..."
   ]
  },
  {
   "cell_type": "markdown",
   "id": "6f43eb86",
   "metadata": {},
   "source": [
    "# Task 4: Apply and evaluate spatial domain filterin for edge detection"
   ]
  },
  {
   "cell_type": "markdown",
   "id": "a7dcf3c1",
   "metadata": {},
   "source": [
    "#### **T4.1: Implement and compare filtering methods**\n",
    "\n",
    "In this task, you will implement and compare different edge detection techniques.\n",
    "\n",
    "1. Use your 2D convolution function to apply the following edge detection filters:\n",
    "    - Prewitt filter : Uses two kernels to detect edges in horizontal and vertical directions.\n",
    "    - Sobel filter : Similar to Prewitt but gives more weight to central pixels, improving edge detection in horizontal and vertical directions.\n",
    "    - Laplacian filter : Uses a single kernel to capture second-order derivatives, detecting edges without considering directionality.\n",
    "\n",
    "\n",
    "##### **Compare the effectiveness of each method in detecting edges in an image.**\n",
    "\n",
    "\n",
    "**Understanding Horizontal and Vertical Kernels:**\n",
    "\n",
    "- The Gradient X kernel detects vertical edges (changes along the horizontal direction).\n",
    "- The Gradient Y kernel detects horizontal edges (changes along the vertical direction).\n",
    "- The final edge map is obtained by combining both gradients using the gradient magnitude computation.\n",
    "\n",
    "\n",
    "![Sample Image](illustrations/gradient.jpg)\n",
    "\n",
    "\n",
    "    \n",
    "\n",
    "\n"
   ]
  },
  {
   "cell_type": "code",
   "execution_count": null,
   "id": "17f11fdb",
   "metadata": {},
   "outputs": [],
   "source": [
    "# Your code here.\n",
    "...\n"
   ]
  },
  {
   "cell_type": "markdown",
   "id": "a496ebd6",
   "metadata": {},
   "source": [
    "**Add your analysis and comments here**\n",
    "\n",
    "..."
   ]
  },
  {
   "cell_type": "markdown",
   "id": "c4be9607",
   "metadata": {},
   "source": [
    "#### **T4.2: Validate Edge Detection with OpenCV**\n",
    "\n",
    "In this task, you will apply the same edge detection filters using OpenCV's built-in functions and compare them with your manual implementation.\n",
    "\n",
    "- Use OpenCV’s built-in functions for edge detection:\n",
    "    - cv2.filter2D(): For Prewitt, Sobel and Laplacian filters using convolution operation.\n",
    "    - cv2.Canny(): Another method for edge detection using the Canny method.\n",
    "\n",
    "- Compare the results of manual implementation with OpenCV’s functions."
   ]
  },
  {
   "cell_type": "code",
   "execution_count": null,
   "id": "3b4b1d9b",
   "metadata": {},
   "outputs": [],
   "source": [
    "# Your code here.\n",
    "...\n"
   ]
  },
  {
   "cell_type": "markdown",
   "id": "4133330f",
   "metadata": {},
   "source": [
    "**Add your analysis and comments here**\n",
    "\n",
    "..."
   ]
  },
  {
   "cell_type": "markdown",
   "id": "a1547fa3",
   "metadata": {},
   "source": [
    "## Task 5: Experiment with other filter size\n",
    "Now, **re-perform Task 3 and Task 4** using different kernel sizes to observe how the results change.\n",
    "\n",
    "- Instead of using a **3×3 kernel**, try **5×5**, **7×7**, and **9×9** kernels.\n",
    "- Use different values of noise density to see **whether** it is effectively filtered across different kernel sizes.\n",
    "- To avoid unnecessary steps, apply only the most suitable filter for each type of noise based on your findings.\n",
    "- Compare the results and analyze:\n",
    "  - How does increasing the kernel size affect noise reduction?\n",
    "  - How does it impact edge preservation?\n"
   ]
  },
  {
   "cell_type": "markdown",
   "id": "6c0b9c4d",
   "metadata": {},
   "source": [
    "**Add your analysis and comments here**\n",
    "\n",
    "..."
   ]
  }
 ],
 "metadata": {
  "language_info": {
   "name": "python"
  }
 },
 "nbformat": 4,
 "nbformat_minor": 5
}
